{
 "cells": [
  {
   "cell_type": "code",
   "execution_count": null,
   "metadata": {},
   "outputs": [],
   "source": [
    "str=input()\n",
    "l=[]\n",
    "l.append(map(int, input().split()))\n",
    "x=[0]\n",
    "y=[0]\n",
    "i=0\n",
    "while i<len(str):\n",
    "    if str[i]==\"N\":\n",
    "        x.append(x[i]+0)\n",
    "        y.append(y[i]+l[i])\n",
    "    elif str[i]==\"S\":\n",
    "        x.append(x[i]+0)\n",
    "        y.append(y[i]+(l[i]*-1))\n",
    "    elif str[i]==\"E\":\n",
    "        x.append(x[i]+l[i])\n",
    "        y.append(y[i]+0)\n",
    "    else:\n",
    "        x.append(x[i]+(-1*l[i]))\n",
    "        y.append(y[i]+0)\n",
    "    i+=1\n",
    "area,i=0,0\n",
    "while i<len(str):\n",
    "    area+=(x[i+1]-x[i])*y[i]\n",
    "    i+=1\n",
    "if area<0:\n",
    "    area*=-1\n",
    "else:\n",
    "    area*=1\n",
    "print(area)"
   ]
  }
 ],
 "metadata": {
  "kernelspec": {
   "display_name": "Python 3",
   "language": "python",
   "name": "python3"
  },
  "language_info": {
   "codemirror_mode": {
    "name": "ipython",
    "version": 3
   },
   "file_extension": ".py",
   "mimetype": "text/x-python",
   "name": "python",
   "nbconvert_exporter": "python",
   "pygments_lexer": "ipython3",
   "version": "3.7.1"
  }
 },
 "nbformat": 4,
 "nbformat_minor": 2
}
