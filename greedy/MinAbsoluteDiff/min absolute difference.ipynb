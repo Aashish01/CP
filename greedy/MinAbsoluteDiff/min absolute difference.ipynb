{
 "cells": [
  {
   "cell_type": "code",
   "execution_count": 11,
   "metadata": {},
   "outputs": [
    {
     "name": "stdout",
     "output_type": "stream",
     "text": [
      "5\n",
      "2 9 0 4 5\n",
      "1\n"
     ]
    }
   ],
   "source": [
    "n=int(input())\n",
    "list=[]\n",
    "j=input().split()\n",
    "i=0\n",
    "while i<n:\n",
    "    list.append(int(j[i]))\n",
    "    i+=1\n",
    "list.sort()\n",
    "import sys\n",
    "min=sys.maxsize\n",
    "i=0\n",
    "while i<n-1:\n",
    "    diff=abs(list[i]-list[i+1])\n",
    "    if diff<min:\n",
    "        min=diff\n",
    "    i+=1\n",
    "print(min)"
   ]
  }
 ],
 "metadata": {
  "kernelspec": {
   "display_name": "Python 3",
   "language": "python",
   "name": "python3"
  },
  "language_info": {
   "codemirror_mode": {
    "name": "ipython",
    "version": 3
   },
   "file_extension": ".py",
   "mimetype": "text/x-python",
   "name": "python",
   "nbconvert_exporter": "python",
   "pygments_lexer": "ipython3",
   "version": "3.7.1"
  }
 },
 "nbformat": 4,
 "nbformat_minor": 2
}
